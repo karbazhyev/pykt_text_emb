{
 "cells": [
  {
   "cell_type": "code",
   "execution_count": 2,
   "metadata": {},
   "outputs": [],
   "source": [
    "import pandas as pd\n",
    "import json\n",
    "import numpy as np\n",
    "from bs4 import BeautifulSoup\n",
    "import math\n"
   ]
  },
  {
   "cell_type": "code",
   "execution_count": 3,
   "metadata": {},
   "outputs": [],
   "source": [
    "assist_df = pd.read_csv('/Users/kiakarbasi/pykt_emb_chef/pykt-toolkit-pt_emb/embeddings/data/assist2009/full_dataset/skill_builder_data_corrected_collapsed.csv', encoding = \"ISO-8859-1\", low_memory=False)\n",
    "pb_df = pd.read_csv('/Users/kiakarbasi/pykt_emb_chef/pykt-toolkit-pt_emb/embeddings/data/problem_bodies/ProblemBodies_23.csv', low_memory=False)"
   ]
  },
  {
   "cell_type": "code",
   "execution_count": 4,
   "metadata": {},
   "outputs": [],
   "source": [
    "questions = assist_df['problem_id'].unique()\n",
    "assist_df['skill_id'].unique()\n",
    "\n",
    "skill_to_problems = {}\n",
    "for skill_id in assist_df['skill_id'].unique():\n",
    "  skill_to_problems[skill_id] = assist_df[assist_df['skill_id'] == skill_id]['problem_id'].unique()\n"
   ]
  },
  {
   "cell_type": "code",
   "execution_count": 5,
   "metadata": {},
   "outputs": [],
   "source": [
    "with open('/Users/kiakarbasi/pykt_emb_chef/pykt-toolkit-pt_emb/embeddings/data/assist2009/pb_subset/keyid2idx_assist2009_pb_subset.json', 'r') as f:\n",
    "  keyid2idx_pb_subset = json.load(f)"
   ]
  },
  {
   "cell_type": "code",
   "execution_count": 6,
   "metadata": {},
   "outputs": [],
   "source": [
    "problem_ids = list(keyid2idx_pb_subset['questions'].keys())\n",
    "problem_ids_int = [int(x) for x in problem_ids]\n",
    "subset_df_html_selected = pb_df[pb_df['problem_id'].isin(problem_ids_int)]\n",
    "subset_df_html = subset_df_html_selected[['problem_id','problem_body']]"
   ]
  },
  {
   "cell_type": "code",
   "execution_count": 7,
   "metadata": {},
   "outputs": [
    {
     "name": "stderr",
     "output_type": "stream",
     "text": [
      "/Users/kiakarbasi/anaconda3/envs/kiapykt/lib/python3.7/site-packages/ipykernel_launcher.py:32: SettingWithCopyWarning: \n",
      "A value is trying to be set on a copy of a slice from a DataFrame.\n",
      "Try using .loc[row_indexer,col_indexer] = value instead\n",
      "\n",
      "See the caveats in the documentation: https://pandas.pydata.org/pandas-docs/stable/user_guide/indexing.html#returning-a-view-versus-a-copy\n"
     ]
    }
   ],
   "source": [
    "from bs4 import BeautifulSoup\n",
    "\n",
    "def remove_tags(html):\n",
    "    soup = BeautifulSoup(html, \"html.parser\")\n",
    "\n",
    "    # Find and replace <img> tags with their 'alt' attribute\n",
    "    for img in soup.find_all('img'):\n",
    "        alt_text = img.get('alt', '')  # default to empty string if 'alt' is None\n",
    "        if alt_text:\n",
    "            # Create a new text node\n",
    "            new_text = soup.new_string(\" \" + alt_text + \" \")\n",
    "            img.replace_with(new_text)\n",
    "        else:\n",
    "            # Remove the image if no alt text\n",
    "            img.decompose()\n",
    "\n",
    "    # Remove all script and style elements\n",
    "    for tag in soup(['script', 'style']):\n",
    "        tag.decompose()\n",
    "\n",
    "    # Extract the text, cleaning up any excessive whitespace\n",
    "    clean_text = ' '.join(soup.stripped_strings)\n",
    "    return clean_text\n",
    "\n",
    "# Example usage with a DataFrame column\n",
    "# subset_df['problem_body'] = subset_df['problem_body'].apply(remove_tags)\n",
    "\n",
    "\n",
    "\n",
    "\n",
    "#pass pb_df_subset['problem_body'] column into function remove_tags\n",
    "subset_df_html['problem_body'] = subset_df_html['problem_body'].apply(remove_tags)"
   ]
  },
  {
   "cell_type": "code",
   "execution_count": 9,
   "metadata": {},
   "outputs": [],
   "source": [
    "subset_df_html.to_csv('//Users/kiakarbasi/pykt_emb_chef/pykt-toolkit-pt_emb/embeddings/data/problem_bodies/pb_assist2009_subset_preprocessed.csv', index=False)"
   ]
  },
  {
   "cell_type": "code",
   "execution_count": null,
   "metadata": {},
   "outputs": [],
   "source": []
  }
 ],
 "metadata": {
  "kernelspec": {
   "display_name": "kiapykt",
   "language": "python",
   "name": "python3"
  },
  "language_info": {
   "codemirror_mode": {
    "name": "ipython",
    "version": 3
   },
   "file_extension": ".py",
   "mimetype": "text/x-python",
   "name": "python",
   "nbconvert_exporter": "python",
   "pygments_lexer": "ipython3",
   "version": "3.7.5"
  }
 },
 "nbformat": 4,
 "nbformat_minor": 2
}
