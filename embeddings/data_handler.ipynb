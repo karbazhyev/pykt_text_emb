{
 "cells": [
  {
   "cell_type": "code",
   "execution_count": 2,
   "metadata": {},
   "outputs": [],
   "source": [
    "import pandas as pd\n",
    "import json\n",
    "import numpy as np\n",
    "from bs4 import BeautifulSoup\n",
    "import math\n"
   ]
  },
  {
   "cell_type": "code",
   "execution_count": 10,
   "metadata": {},
   "outputs": [],
   "source": [
    "assist_df = pd.read_csv('/Users/kiakarbasi/pykt_emb_chef/pykt-toolkit-pt_emb/embeddings/data/assist2009/full_dataset/skill_builder_data_corrected_collapsed.csv', encoding = \"ISO-8859-1\", low_memory=False)\n",
    "pb_df = pd.read_csv('/Users/kiakarbasi/pykt_emb_chef/pykt-toolkit-pt_emb/embeddings/data/problem_bodies/ProblemBodies_23.csv', low_memory=False)"
   ]
  },
  {
   "cell_type": "code",
   "execution_count": 30,
   "metadata": {},
   "outputs": [],
   "source": [
    "temp_df = pb_df[pb_df['curriculum']== 'Skill Builders']\n",
    "temp_df[temp_df['grade_or_subject']== 'High School: Geometry']['problem_type'].unique()\n",
    "temp1_df = temp_df[temp_df['grade_or_subject']== 'High School: Geometry']\n",
    "temp1_df[temp1_df['problem_type']=='old_algebra']\n",
    "\n",
    "\n",
    "temp2_df = temp_df[temp_df['grade_or_subject'].isin(['High School: Number and Quantity', 'High School: Algebra ', \n",
    "       'High School: Functions', \n",
    "       'High School: Statistics and Probability', 'High School: Geometry'])]\n",
    "\n",
    "\n",
    "temp2_df ['unit'].unique()\n",
    "\n",
    "x = temp2_df ['problem_set_name'].unique()"
   ]
  },
  {
   "cell_type": "code",
   "execution_count": 35,
   "metadata": {},
   "outputs": [
    {
     "data": {
      "text/plain": [
       "array(['(N.VM.C.8) Matrix Addition Skill Builder EX',\n",
       "       '(N.VM.C.8) Matrix Rows and Columns Skill Builder',\n",
       "       '(A.SSE.A.1a) Interpreting Parts of an Expression Skill Builder',\n",
       "       '(N.VM.C.8) Matrix Multiplication Skill Builder',\n",
       "       '(F.BF.A.1c) Composition of Functions Skill Builder',\n",
       "       '(F.BF.A.2) Geometric and Arithmetic Sequences Skill Builder',\n",
       "       '(F.BF.B.5) Logarithm Base Change Skill Builder',\n",
       "       '(F.BF.B.4) Finding Inverse Functions Skill Builder',\n",
       "       '(F.LE.A.4a) Solving ab^ct = d Skill Builder',\n",
       "       '(F.BF.B.5) Basic Logarithm Manipulation Skill Builder',\n",
       "       '(A.SSE.A.1a) Standard Form of a Polynomial Skill Builder',\n",
       "       '(N.CN.A.2) Complex Numbers Skill Builder',\n",
       "       '(F.TF.A.1) Converting Radians to Degrees Skill Builder',\n",
       "       '(F.IF.B.4) Interpreting Graphs of Functions Skill Builder',\n",
       "       '(F.BF.B.5) Intermediate Logarithm Manipulation Skill Builder',\n",
       "       '(SS.MD.B.5) Finding Expected Value Skill Builder EX',\n",
       "       '(G.C.A.2) Interpreting Parts of Circles Skill Builder',\n",
       "       '(F.IF.C.7) Identifying Vertex from Quadratic Equations Skill Builder',\n",
       "       '(A.SSE.B.3b) Factoring Quadratic Expressions Skill Builder',\n",
       "       '(S.CP.B.2) Permutations and Combinations Skill Builder',\n",
       "       '(G.SRT.C.8) Trigonometric Ratios Skill Builder',\n",
       "       '(A.APR.A.1) Composition of Functions (Addition) Skill Builder',\n",
       "       '(A.SSE.A.2) Operations with Square Roots Expressions Skill Builder',\n",
       "       '(A.SSE.A.2) Add/Subtract Polynomials Skill Builder',\n",
       "       '(A.SSE.B.3a) Factoring Quadratic Expressions (by grouping)  Skill Builder',\n",
       "       '(A.SSE.B.3) Factoring Trinomials (Mixed) Skill Builder',\n",
       "       '(A.APR.D.6) Simplifying Rational Expressions Skill Builder',\n",
       "       '(A.APR.D.7) Dividing Polynomials Skill Builder',\n",
       "       '(A.CED.A.4) Rearranging Equations/Formulas (2) Skill Builder',\n",
       "       '(A.CED.A.4) Rearranging Equations/Formulas (1) Skill Builder',\n",
       "       '(A.SSE.B.3a) Factoring Polynomials (Leading Coefficient=1) Skill Builder',\n",
       "       '(F.BF.B.5) Logarithmic Equations Skill Builder',\n",
       "       '(A.SSE.B.3a) Factoring Quadratic Expressions Skill Builder',\n",
       "       '(A.SSE.B.3b) Completing the Square Skill Builder',\n",
       "       '(A.APR.A.1) Multiplying Polynomials Skill Builder',\n",
       "       '(G.SRT.D.11) Law of Sines and Cosines Skill Builder',\n",
       "       '(A.APR.A.1) Multiplying Binomials Skill Builder',\n",
       "       '(A.SSE.B.3) Solving Exponential Equations Skill Builder',\n",
       "       '(F.BF.B.5) Simplifying Logarithms Skill Builder EX',\n",
       "       '(A.REI.A.2) Solving Absolute Value Equations Skill Builder EX',\n",
       "       '(G.GPE.B.5) Parallel or Perpendicular Lines Skill Builder',\n",
       "       '(S.CP.A.3) Conditional Probability Skill Builder',\n",
       "       '(A.REI.D.12) Systems of Linear Inequalities Graphs Skill Builder',\n",
       "       '(A.SSE.A.2) Factoring Expressions (GCF) Skill Builder',\n",
       "       '(F.TF.A.2) Equivalent Angles (Radians, Degrees) on the Unit Circle Skill Builder',\n",
       "       '(A.SSE.B.3a) Solving Quadratic Equations (Factoring) Skill Builder'],\n",
       "      dtype=object)"
      ]
     },
     "execution_count": 35,
     "metadata": {},
     "output_type": "execute_result"
    }
   ],
   "source": [
    "x\n",
    "# x.shape"
   ]
  },
  {
   "cell_type": "code",
   "execution_count": 4,
   "metadata": {},
   "outputs": [],
   "source": [
    "questions = assist_df['problem_id'].unique()\n",
    "assist_df['skill_id'].unique()\n",
    "\n",
    "skill_to_problems = {}\n",
    "for skill_id in assist_df['skill_id'].unique():\n",
    "  skill_to_problems[skill_id] = assist_df[assist_df['skill_id'] == skill_id]['problem_id'].unique()\n"
   ]
  },
  {
   "cell_type": "code",
   "execution_count": 5,
   "metadata": {},
   "outputs": [],
   "source": [
    "with open('/Users/kiakarbasi/pykt_emb_chef/pykt-toolkit-pt_emb/embeddings/data/assist2009/pb_subset/keyid2idx_assist2009_pb_subset.json', 'r') as f:\n",
    "  keyid2idx_pb_subset = json.load(f)"
   ]
  },
  {
   "cell_type": "code",
   "execution_count": 6,
   "metadata": {},
   "outputs": [],
   "source": [
    "problem_ids = list(keyid2idx_pb_subset['questions'].keys())\n",
    "problem_ids_int = [int(x) for x in problem_ids]\n",
    "subset_df_html_selected = pb_df[pb_df['problem_id'].isin(problem_ids_int)]\n",
    "subset_df_html = subset_df_html_selected[['problem_id','problem_body']]"
   ]
  },
  {
   "cell_type": "code",
   "execution_count": 7,
   "metadata": {},
   "outputs": [
    {
     "name": "stderr",
     "output_type": "stream",
     "text": [
      "/Users/kiakarbasi/anaconda3/envs/kiapykt/lib/python3.7/site-packages/ipykernel_launcher.py:32: SettingWithCopyWarning: \n",
      "A value is trying to be set on a copy of a slice from a DataFrame.\n",
      "Try using .loc[row_indexer,col_indexer] = value instead\n",
      "\n",
      "See the caveats in the documentation: https://pandas.pydata.org/pandas-docs/stable/user_guide/indexing.html#returning-a-view-versus-a-copy\n"
     ]
    }
   ],
   "source": [
    "from bs4 import BeautifulSoup\n",
    "\n",
    "def remove_tags(html):\n",
    "    soup = BeautifulSoup(html, \"html.parser\")\n",
    "\n",
    "    # Find and replace <img> tags with their 'alt' attribute\n",
    "    for img in soup.find_all('img'):\n",
    "        alt_text = img.get('alt', '')  # default to empty string if 'alt' is None\n",
    "        if alt_text:\n",
    "            # Create a new text node\n",
    "            new_text = soup.new_string(\" \" + alt_text + \" \")\n",
    "            img.replace_with(new_text)\n",
    "        else:\n",
    "            # Remove the image if no alt text\n",
    "            img.decompose()\n",
    "\n",
    "    # Remove all script and style elements\n",
    "    for tag in soup(['script', 'style']):\n",
    "        tag.decompose()\n",
    "\n",
    "    # Extract the text, cleaning up any excessive whitespace\n",
    "    clean_text = ' '.join(soup.stripped_strings)\n",
    "    return clean_text\n",
    "\n",
    "# Example usage with a DataFrame column\n",
    "# subset_df['problem_body'] = subset_df['problem_body'].apply(remove_tags)\n",
    "\n",
    "\n",
    "\n",
    "\n",
    "#pass pb_df_subset['problem_body'] column into function remove_tags\n",
    "subset_df_html['problem_body'] = subset_df_html['problem_body'].apply(remove_tags)"
   ]
  },
  {
   "cell_type": "code",
   "execution_count": 9,
   "metadata": {},
   "outputs": [],
   "source": [
    "subset_df_html.to_csv('//Users/kiakarbasi/pykt_emb_chef/pykt-toolkit-pt_emb/embeddings/data/problem_bodies/pb_assist2009_subset_preprocessed.csv', index=False)"
   ]
  },
  {
   "cell_type": "code",
   "execution_count": null,
   "metadata": {},
   "outputs": [],
   "source": []
  }
 ],
 "metadata": {
  "kernelspec": {
   "display_name": "kiapykt",
   "language": "python",
   "name": "python3"
  },
  "language_info": {
   "codemirror_mode": {
    "name": "ipython",
    "version": 3
   },
   "file_extension": ".py",
   "mimetype": "text/x-python",
   "name": "python",
   "nbconvert_exporter": "python",
   "pygments_lexer": "ipython3",
   "version": "3.7.5"
  }
 },
 "nbformat": 4,
 "nbformat_minor": 2
}
